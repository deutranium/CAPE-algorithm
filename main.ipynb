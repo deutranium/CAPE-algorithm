{
 "cells": [
  {
   "cell_type": "markdown",
   "metadata": {},
   "source": [
    "### Implementation of the CASE algorithm proposed in the paper \"Ensuring Fairness under Prior Probability Shifts\"\n",
    "\n",
    "    - Find the paper here: https://dl.acm.org/doi/pdf/10.1145/3461702.3462596 (Main Reference)\n",
    "    - ArXiv version of the paper: https://arxiv.org/pdf/2005.03474.pdf\n",
    "   \n",
    "\n",
    "1. Reproducing the results shown in Table-1 of the main reference (on synthetic dataset described in the paper)\n",
    "          \n",
    "2. Reproducing the results shown in Table-3 of the main reference for Pre-processing techniques. This includes comparing CAPE (CAPE-D and CAPE-1) against Pre (Reweigh) for all the metrics shown in the Table-3, for both COMPASS and MEPS datasets.\n",
    "                   \n",
    "3. Reproducing the results shown in Table-3 of the main reference for In-processing techniques. This includes comparing CAPE (CAPE-D and CAPE-1) against one set of In-processing technique for all the metrics shown in the Table-3, for both COMPASS and MEPS datasets."
   ]
  },
  {
   "cell_type": "code",
   "execution_count": 1,
   "metadata": {},
   "outputs": [],
   "source": [
    "from sklearn import preprocessing\n",
    "from sklearn.model_selection import train_test_split\n",
    "from random import choices\n",
    "from sklearn.ensemble import GradientBoostingClassifier\n",
    "import datetime as dt\n",
    "import pandas as pd\n",
    "import numpy as np\n",
    "from sklearn.naive_bayes import GaussianNB\n",
    "import numpy as np\n",
    "import math\n",
    "from sklearn.linear_model import LogisticRegression"
   ]
  },
  {
   "cell_type": "markdown",
   "metadata": {},
   "source": [
    "## Synthetic Dataset"
   ]
  },
  {
   "cell_type": "code",
   "execution_count": 2,
   "metadata": {},
   "outputs": [],
   "source": [
    "pv_values = [0.1, 0.2, 0.3, 0.4, 0.5, 0.6, 0.7, 0.8, 0.9]"
   ]
  },
  {
   "cell_type": "code",
   "execution_count": 3,
   "metadata": {},
   "outputs": [],
   "source": [
    "def generate_synthetic_dataset(P_1=0.5, P_0=0.5, L=50000):\n",
    "    a0 = int(P_0*L/2)\n",
    "    a1 = int(P_1*L/2)\n",
    "    b0 = int((1-P_0)*L/2)\n",
    "    b1 = int((1-P_1)*L/2)\n",
    "    Y = a0*[1] + a1*[1] + b0*[0] + b1*[0]\n",
    "    U = np.concatenate([np.random.normal(15, 10, a0), np.random.normal(5, 5, a1), np.random.normal(15, 10, b0), np.random.normal(5, 5, b1)])\n",
    "    V = np.concatenate([np.random.normal(20, 10, a0), np.random.normal(40, 10, a1), np.random.normal(20, 10, b0), np.random.normal(40, 10, b1)])\n",
    "    Z = a0*[1] + a1*[0] + b0*[1] + b1*[0]\n",
    "    \n",
    "    dataset = pd.DataFrame({'U': U, 'V': V, 'Z': Z, 'Y': Y})\n",
    "    Y_df = dataset.pop('Y')\n",
    "    \n",
    "    return dataset, Y_df"
   ]
  },
  {
   "cell_type": "code",
   "execution_count": 4,
   "metadata": {},
   "outputs": [],
   "source": [
    "syn_train_X, syn_train_Y = generate_synthetic_dataset()"
   ]
  },
  {
   "cell_type": "code",
   "execution_count": 5,
   "metadata": {},
   "outputs": [],
   "source": [
    "syn_test_X_1, syn_test_Y_1 = generate_synthetic_dataset(0.1, 0.1)"
   ]
  },
  {
   "cell_type": "code",
   "execution_count": 11,
   "metadata": {
    "collapsed": true
   },
   "outputs": [
    {
     "name": "stdout",
     "output_type": "stream",
     "text": [
      "Generating quantifiers...\n",
      "18750\n",
      "18750\n",
      "Generating classifiers...\n",
      "Z: 0  | theta: 0.05\n",
      "Z: 0  | theta: 0.25\n",
      "Z: 0  | theta: 0.35\n",
      "Z: 0  | theta: 0.45\n",
      "Z: 0  | theta: 0.15\n",
      "Z: 0  | theta: 0.55\n",
      "Z: 0  | theta: 0.65\n",
      "Z: 0  | theta: 0.75\n",
      "Z: 0  | theta: 0.85\n",
      "Z: 0  | theta: 0.95\n",
      "Z: 1  | theta: 0.05\n",
      "Z: 1  | theta: 0.25\n",
      "Z: 1  | theta: 0.35\n",
      "Z: 1  | theta: 0.45\n",
      "Z: 1  | theta: 0.15\n",
      "Z: 1  | theta: 0.55\n",
      "Z: 1  | theta: 0.65\n",
      "Z: 1  | theta: 0.75\n",
      "Z: 1  | theta: 0.85\n",
      "Z: 1  | theta: 0.95\n",
      "Getting prediction prevalance...\n",
      "Z: 0  | theta: 0.05\n",
      "LogisticRegression()\n",
      "s 0.0\n",
      "Z: 0  | theta: 0.25\n",
      "LogisticRegression()\n",
      "s 0.0\n",
      "Z: 0  | theta: 0.35\n",
      "LogisticRegression()\n",
      "s 0.0\n",
      "Z: 0  | theta: 0.45\n",
      "LogisticRegression()\n",
      "s 0.0\n",
      "Z: 0  | theta: 0.15\n",
      "LogisticRegression()\n",
      "s 0.0\n",
      "Z: 0  | theta: 0.55\n",
      "LogisticRegression()\n",
      "s 1.0\n",
      "Z: 0  | theta: 0.65\n",
      "LogisticRegression()\n",
      "s 1.0\n",
      "Z: 0  | theta: 0.75\n",
      "LogisticRegression()\n",
      "s 1.0\n",
      "Z: 0  | theta: 0.85\n",
      "LogisticRegression()\n",
      "s 1.0\n",
      "Z: 0  | theta: 0.95\n",
      "LogisticRegression()\n",
      "s 1.0\n",
      "Z: 1  | theta: 0.05\n",
      "LogisticRegression()\n",
      "s 0.0\n",
      "Z: 1  | theta: 0.25\n",
      "LogisticRegression()\n",
      "s 0.0\n",
      "Z: 1  | theta: 0.35\n",
      "LogisticRegression()\n",
      "s 0.0\n",
      "Z: 1  | theta: 0.45\n",
      "LogisticRegression()\n",
      "s 0.0\n",
      "Z: 1  | theta: 0.15\n",
      "LogisticRegression()\n",
      "s 0.0\n",
      "Z: 1  | theta: 0.55\n",
      "LogisticRegression()\n",
      "s 1.0\n",
      "Z: 1  | theta: 0.65\n",
      "LogisticRegression()\n",
      "s 1.0\n",
      "Z: 1  | theta: 0.75\n",
      "LogisticRegression()\n",
      "s 1.0\n",
      "Z: 1  | theta: 0.85\n",
      "LogisticRegression()\n",
      "s 1.0\n",
      "Z: 1  | theta: 0.95\n",
      "LogisticRegression()\n",
      "s 1.0\n"
     ]
    },
    {
     "data": {
      "text/plain": [
       "([LogisticRegression(), 0.09375999999963192, 1.0],\n",
       " [LogisticRegression(), 0.32687999999998574, 0.0])"
      ]
     },
     "execution_count": 11,
     "metadata": {},
     "output_type": "execute_result"
    }
   ],
   "source": [
    "s_t = CASE(syn_train_X, syn_test_X_1, syn_train_Y, syn_test_Y_1)\n",
    "s_t.partition_z()\n",
    "print(\"Generating quantifiers...\")\n",
    "s_t.create_quantifiers()\n",
    "print(\"Generating classifiers...\")\n",
    "s_t.create_classifiers(ds='syn')\n",
    "print(\"Getting prediction prevalance...\")\n",
    "best_1, best_0 = s_t.get_prediction_prevelance()"
   ]
  },
  {
   "cell_type": "code",
   "execution_count": 32,
   "metadata": {},
   "outputs": [],
   "source": [
    "def generate_split_10(pp, pn):\n",
    "    X, Y = generate_synthetic_dataset(pp, pn)\n",
    "    combined = pd.concat([X, Y], axis=1)\n",
    "    Z0 = combined[combined[\"Y\"] == 0]\n",
    "    Z0.reset_index()\n",
    "    Z0_Y = Z0.pop(\"Y\")\n",
    "    \n",
    "    Z1 = combined[combined[\"Y\"] == 1]\n",
    "    Z1.reset_index()\n",
    "    Z1_Y = Z1.pop(\"Y\")\n",
    "    \n",
    "    return Z0, Z0_Y, Z1, Z1_Y"
   ]
  },
  {
   "cell_type": "code",
   "execution_count": null,
   "metadata": {},
   "outputs": [],
   "source": [
    "# generating results for diff. types of synthetic datasets\n",
    "\n",
    "p_valuesss = [[0.1, 0.1], [0.8, 0.2], [0.9, 0.9]]\n",
    "\n",
    "for i in p_valuesss:\n",
    "    Z0, Z0_Y, Z1, Z1_Y = generate_split_10(i[0], i[1])\n",
    "    s_t = CASE(syn_train_X, syn_test_X_1, syn_train_Y, syn_test_Y_1)\n",
    "    s_t.partition_z()\n",
    "    print(\"Generating quantifiers...\")\n",
    "    s_t.create_quantifiers()\n",
    "    print(\"Generating classifiers...\")\n",
    "    s_t.create_classifiers(ds='syn')\n",
    "    print(\"Getting prediction prevalance...\")\n",
    "    best_1, best_0 = s_t.get_prediction_prevelance()\n",
    "    print(\"----REPORT-----\")\n",
    "    print(\"For z = 0, prevelance =\", i[0])\n",
    "    print(best_0[0].score(st_1_Z0, st_1_Z0_Y))\n",
    "    print(\"--\")\n",
    "    print(\"For z = 1, prevelance =\", i[1])\n",
    "    print(best_1[0].score(st_1_Z1, st_1_Z1_Y))"
   ]
  },
  {
   "cell_type": "markdown",
   "metadata": {},
   "source": [
    "## Preprocessing"
   ]
  },
  {
   "cell_type": "markdown",
   "metadata": {},
   "source": [
    "### 1. COMPAS dataset"
   ]
  },
  {
   "cell_type": "code",
   "execution_count": 37,
   "metadata": {},
   "outputs": [],
   "source": [
    "def preprocess_compas(df, test_size=0.2):\n",
    "    # remove empty c_charge_desc columns\n",
    "    df = df.copy()\n",
    "    df = df[['race', 'c_jail_in', 'c_jail_out', 'decile_score', 'juv_fel_count', 'juv_misd_count', 'juv_other_count', 'priors_count', 'days_b_screening_arrest', 'c_charge_degree', 'is_recid', 'r_charge_degree', 'is_violent_recid', 'score_text', 'two_year_recid']]\n",
    "    to_date_columns = ['c_jail_in', 'c_jail_out']\n",
    "    to_int_columns = ['juv_fel_count', 'decile_score', 'juv_misd_count', 'juv_other_count', 'priors_count', 'days_b_screening_arrest', 'is_recid', 'is_violent_recid', 'two_year_recid']\n",
    "    \n",
    "    for col in to_date_columns:\n",
    "        df[col] = pd.to_datetime(df[col]).dt.date\n",
    "        \n",
    "    for col in to_int_columns:\n",
    "        df[col] = pd.to_numeric(df[col])\n",
    "        \n",
    "    df[\"length_of_stay\"] = (df['c_jail_out'] - df['c_jail_in']).dt.days\n",
    "    df['length_of_stay'].fillna(0, inplace=True)\n",
    "\n",
    "    \n",
    "    df = df[df['race'].isin(['Caucasian', 'African-American'])]\n",
    "    \n",
    "    df.drop(['c_jail_in', 'c_jail_out', 'r_charge_degree', 'days_b_screening_arrest', 'score_text'], axis=1, inplace=True)\n",
    "\n",
    "    \n",
    "    df = pd.get_dummies(df, columns = ['race', 'c_charge_degree'])\n",
    "    \n",
    "    df_Y = df.pop('two_year_recid')\n",
    "    df = df.drop(['race_Caucasian', 'c_charge_degree_M'], axis=1)\n",
    "    df = df.rename(columns = {'race_African-American': 'Z', 'c_charge_degree_F': 'Felony'})\n",
    "    print(\"Shape:\", df.shape)\n",
    "    \n",
    "    \n",
    "    return df, df_Y"
   ]
  },
  {
   "cell_type": "markdown",
   "metadata": {},
   "source": [
    "## Datasets"
   ]
  },
  {
   "cell_type": "markdown",
   "metadata": {},
   "source": [
    "### COMPAS dataset\n",
    "Link: https://github.com/propublica/compas-analysis/blob/master/compas-scores-two-years.csv"
   ]
  },
  {
   "cell_type": "code",
   "execution_count": 38,
   "metadata": {},
   "outputs": [],
   "source": [
    "compas_df = pd.read_csv(\"data/compas-scores-two-years.csv\")"
   ]
  },
  {
   "cell_type": "code",
   "execution_count": 39,
   "metadata": {},
   "outputs": [],
   "source": [
    "compas_df['screening_date'] = pd.to_datetime(compas_df['screening_date'])\n",
    "compas_df_2013 = compas_df[compas_df['screening_date'].dt.year == 2013]\n",
    "compas_df_2014 = compas_df[compas_df['screening_date'].dt.year == 2014]"
   ]
  },
  {
   "cell_type": "code",
   "execution_count": 40,
   "metadata": {},
   "outputs": [
    {
     "name": "stdout",
     "output_type": "stream",
     "text": [
      "Shape: (4335, 10)\n",
      "Shape: (1815, 10)\n"
     ]
    }
   ],
   "source": [
    "X_train_2013, Y_train_2013 = preprocess_compas(compas_df_2013)\n",
    "X_test_2014, Y_test_2014 = preprocess_compas(compas_df_2014)"
   ]
  },
  {
   "cell_type": "code",
   "execution_count": 42,
   "metadata": {},
   "outputs": [],
   "source": [
    "X_train_2013.reset_index(drop=True, inplace=True)\n",
    "X_test_2014.reset_index(drop=True, inplace=True)\n",
    "Y_train_2013.reset_index(drop=True, inplace=True)\n",
    "Y_test_2014.reset_index(drop=True, inplace=True)"
   ]
  },
  {
   "cell_type": "code",
   "execution_count": 43,
   "metadata": {},
   "outputs": [],
   "source": [
    "compas_df_2013 = pd.concat([X_train_2013, Y_train_2013], axis=1)\n",
    "compas_df_2014 = pd.concat([X_test_2014, Y_test_2014], axis=1)"
   ]
  },
  {
   "cell_type": "code",
   "execution_count": 44,
   "metadata": {},
   "outputs": [
    {
     "data": {
      "text/html": [
       "<div>\n",
       "<style scoped>\n",
       "    .dataframe tbody tr th:only-of-type {\n",
       "        vertical-align: middle;\n",
       "    }\n",
       "\n",
       "    .dataframe tbody tr th {\n",
       "        vertical-align: top;\n",
       "    }\n",
       "\n",
       "    .dataframe thead th {\n",
       "        text-align: right;\n",
       "    }\n",
       "</style>\n",
       "<table border=\"1\" class=\"dataframe\">\n",
       "  <thead>\n",
       "    <tr style=\"text-align: right;\">\n",
       "      <th></th>\n",
       "      <th>decile_score</th>\n",
       "      <th>juv_fel_count</th>\n",
       "      <th>juv_misd_count</th>\n",
       "      <th>juv_other_count</th>\n",
       "      <th>priors_count</th>\n",
       "      <th>is_recid</th>\n",
       "      <th>is_violent_recid</th>\n",
       "      <th>length_of_stay</th>\n",
       "      <th>Z</th>\n",
       "      <th>Felony</th>\n",
       "    </tr>\n",
       "  </thead>\n",
       "  <tbody>\n",
       "    <tr>\n",
       "      <th>0</th>\n",
       "      <td>3</td>\n",
       "      <td>0</td>\n",
       "      <td>0</td>\n",
       "      <td>0</td>\n",
       "      <td>0</td>\n",
       "      <td>1</td>\n",
       "      <td>1</td>\n",
       "      <td>10.0</td>\n",
       "      <td>1</td>\n",
       "      <td>1</td>\n",
       "    </tr>\n",
       "    <tr>\n",
       "      <th>1</th>\n",
       "      <td>4</td>\n",
       "      <td>0</td>\n",
       "      <td>0</td>\n",
       "      <td>1</td>\n",
       "      <td>4</td>\n",
       "      <td>1</td>\n",
       "      <td>0</td>\n",
       "      <td>1.0</td>\n",
       "      <td>1</td>\n",
       "      <td>1</td>\n",
       "    </tr>\n",
       "    <tr>\n",
       "      <th>2</th>\n",
       "      <td>8</td>\n",
       "      <td>0</td>\n",
       "      <td>1</td>\n",
       "      <td>0</td>\n",
       "      <td>1</td>\n",
       "      <td>0</td>\n",
       "      <td>0</td>\n",
       "      <td>0.0</td>\n",
       "      <td>1</td>\n",
       "      <td>1</td>\n",
       "    </tr>\n",
       "    <tr>\n",
       "      <th>3</th>\n",
       "      <td>3</td>\n",
       "      <td>0</td>\n",
       "      <td>0</td>\n",
       "      <td>0</td>\n",
       "      <td>1</td>\n",
       "      <td>1</td>\n",
       "      <td>1</td>\n",
       "      <td>1.0</td>\n",
       "      <td>0</td>\n",
       "      <td>1</td>\n",
       "    </tr>\n",
       "    <tr>\n",
       "      <th>4</th>\n",
       "      <td>4</td>\n",
       "      <td>0</td>\n",
       "      <td>0</td>\n",
       "      <td>0</td>\n",
       "      <td>0</td>\n",
       "      <td>0</td>\n",
       "      <td>0</td>\n",
       "      <td>1.0</td>\n",
       "      <td>0</td>\n",
       "      <td>1</td>\n",
       "    </tr>\n",
       "    <tr>\n",
       "      <th>...</th>\n",
       "      <td>...</td>\n",
       "      <td>...</td>\n",
       "      <td>...</td>\n",
       "      <td>...</td>\n",
       "      <td>...</td>\n",
       "      <td>...</td>\n",
       "      <td>...</td>\n",
       "      <td>...</td>\n",
       "      <td>...</td>\n",
       "      <td>...</td>\n",
       "    </tr>\n",
       "    <tr>\n",
       "      <th>4330</th>\n",
       "      <td>4</td>\n",
       "      <td>0</td>\n",
       "      <td>0</td>\n",
       "      <td>0</td>\n",
       "      <td>2</td>\n",
       "      <td>0</td>\n",
       "      <td>0</td>\n",
       "      <td>6.0</td>\n",
       "      <td>1</td>\n",
       "      <td>0</td>\n",
       "    </tr>\n",
       "    <tr>\n",
       "      <th>4331</th>\n",
       "      <td>10</td>\n",
       "      <td>0</td>\n",
       "      <td>2</td>\n",
       "      <td>1</td>\n",
       "      <td>5</td>\n",
       "      <td>1</td>\n",
       "      <td>1</td>\n",
       "      <td>13.0</td>\n",
       "      <td>0</td>\n",
       "      <td>0</td>\n",
       "    </tr>\n",
       "    <tr>\n",
       "      <th>4332</th>\n",
       "      <td>6</td>\n",
       "      <td>0</td>\n",
       "      <td>0</td>\n",
       "      <td>0</td>\n",
       "      <td>0</td>\n",
       "      <td>1</td>\n",
       "      <td>0</td>\n",
       "      <td>3.0</td>\n",
       "      <td>0</td>\n",
       "      <td>0</td>\n",
       "    </tr>\n",
       "    <tr>\n",
       "      <th>4333</th>\n",
       "      <td>9</td>\n",
       "      <td>0</td>\n",
       "      <td>0</td>\n",
       "      <td>0</td>\n",
       "      <td>0</td>\n",
       "      <td>0</td>\n",
       "      <td>0</td>\n",
       "      <td>1.0</td>\n",
       "      <td>1</td>\n",
       "      <td>1</td>\n",
       "    </tr>\n",
       "    <tr>\n",
       "      <th>4334</th>\n",
       "      <td>7</td>\n",
       "      <td>0</td>\n",
       "      <td>0</td>\n",
       "      <td>0</td>\n",
       "      <td>0</td>\n",
       "      <td>0</td>\n",
       "      <td>0</td>\n",
       "      <td>2.0</td>\n",
       "      <td>1</td>\n",
       "      <td>1</td>\n",
       "    </tr>\n",
       "  </tbody>\n",
       "</table>\n",
       "<p>4335 rows × 10 columns</p>\n",
       "</div>"
      ],
      "text/plain": [
       "      decile_score  juv_fel_count  juv_misd_count  juv_other_count  \\\n",
       "0                3              0               0                0   \n",
       "1                4              0               0                1   \n",
       "2                8              0               1                0   \n",
       "3                3              0               0                0   \n",
       "4                4              0               0                0   \n",
       "...            ...            ...             ...              ...   \n",
       "4330             4              0               0                0   \n",
       "4331            10              0               2                1   \n",
       "4332             6              0               0                0   \n",
       "4333             9              0               0                0   \n",
       "4334             7              0               0                0   \n",
       "\n",
       "      priors_count  is_recid  is_violent_recid  length_of_stay  Z  Felony  \n",
       "0                0         1                 1            10.0  1       1  \n",
       "1                4         1                 0             1.0  1       1  \n",
       "2                1         0                 0             0.0  1       1  \n",
       "3                1         1                 1             1.0  0       1  \n",
       "4                0         0                 0             1.0  0       1  \n",
       "...            ...       ...               ...             ... ..     ...  \n",
       "4330             2         0                 0             6.0  1       0  \n",
       "4331             5         1                 1            13.0  0       0  \n",
       "4332             0         1                 0             3.0  0       0  \n",
       "4333             0         0                 0             1.0  1       1  \n",
       "4334             0         0                 0             2.0  1       1  \n",
       "\n",
       "[4335 rows x 10 columns]"
      ]
     },
     "execution_count": 44,
     "metadata": {},
     "output_type": "execute_result"
    }
   ],
   "source": [
    "X_train_2013"
   ]
  },
  {
   "cell_type": "code",
   "execution_count": 46,
   "metadata": {},
   "outputs": [
    {
     "data": {
      "text/plain": [
       "0       1\n",
       "1       0\n",
       "2       1\n",
       "3       1\n",
       "4       1\n",
       "       ..\n",
       "1810    0\n",
       "1811    1\n",
       "1812    1\n",
       "1813    0\n",
       "1814    0\n",
       "Name: two_year_recid, Length: 1815, dtype: int64"
      ]
     },
     "execution_count": 46,
     "metadata": {},
     "output_type": "execute_result"
    }
   ],
   "source": [
    "Y_test_2014"
   ]
  },
  {
   "cell_type": "code",
   "execution_count": 45,
   "metadata": {},
   "outputs": [
    {
     "data": {
      "text/html": [
       "<div>\n",
       "<style scoped>\n",
       "    .dataframe tbody tr th:only-of-type {\n",
       "        vertical-align: middle;\n",
       "    }\n",
       "\n",
       "    .dataframe tbody tr th {\n",
       "        vertical-align: top;\n",
       "    }\n",
       "\n",
       "    .dataframe thead th {\n",
       "        text-align: right;\n",
       "    }\n",
       "</style>\n",
       "<table border=\"1\" class=\"dataframe\">\n",
       "  <thead>\n",
       "    <tr style=\"text-align: right;\">\n",
       "      <th></th>\n",
       "      <th>decile_score</th>\n",
       "      <th>juv_fel_count</th>\n",
       "      <th>juv_misd_count</th>\n",
       "      <th>juv_other_count</th>\n",
       "      <th>priors_count</th>\n",
       "      <th>is_recid</th>\n",
       "      <th>is_violent_recid</th>\n",
       "      <th>length_of_stay</th>\n",
       "      <th>Z</th>\n",
       "      <th>Felony</th>\n",
       "    </tr>\n",
       "  </thead>\n",
       "  <tbody>\n",
       "    <tr>\n",
       "      <th>0</th>\n",
       "      <td>6</td>\n",
       "      <td>0</td>\n",
       "      <td>0</td>\n",
       "      <td>0</td>\n",
       "      <td>14</td>\n",
       "      <td>1</td>\n",
       "      <td>0</td>\n",
       "      <td>6.0</td>\n",
       "      <td>0</td>\n",
       "      <td>1</td>\n",
       "    </tr>\n",
       "    <tr>\n",
       "      <th>1</th>\n",
       "      <td>1</td>\n",
       "      <td>0</td>\n",
       "      <td>0</td>\n",
       "      <td>0</td>\n",
       "      <td>0</td>\n",
       "      <td>0</td>\n",
       "      <td>0</td>\n",
       "      <td>3.0</td>\n",
       "      <td>0</td>\n",
       "      <td>0</td>\n",
       "    </tr>\n",
       "    <tr>\n",
       "      <th>2</th>\n",
       "      <td>3</td>\n",
       "      <td>0</td>\n",
       "      <td>0</td>\n",
       "      <td>0</td>\n",
       "      <td>7</td>\n",
       "      <td>1</td>\n",
       "      <td>0</td>\n",
       "      <td>3.0</td>\n",
       "      <td>1</td>\n",
       "      <td>1</td>\n",
       "    </tr>\n",
       "    <tr>\n",
       "      <th>3</th>\n",
       "      <td>3</td>\n",
       "      <td>0</td>\n",
       "      <td>0</td>\n",
       "      <td>0</td>\n",
       "      <td>5</td>\n",
       "      <td>1</td>\n",
       "      <td>0</td>\n",
       "      <td>1.0</td>\n",
       "      <td>0</td>\n",
       "      <td>1</td>\n",
       "    </tr>\n",
       "    <tr>\n",
       "      <th>4</th>\n",
       "      <td>6</td>\n",
       "      <td>0</td>\n",
       "      <td>0</td>\n",
       "      <td>0</td>\n",
       "      <td>13</td>\n",
       "      <td>1</td>\n",
       "      <td>0</td>\n",
       "      <td>1.0</td>\n",
       "      <td>1</td>\n",
       "      <td>1</td>\n",
       "    </tr>\n",
       "    <tr>\n",
       "      <th>...</th>\n",
       "      <td>...</td>\n",
       "      <td>...</td>\n",
       "      <td>...</td>\n",
       "      <td>...</td>\n",
       "      <td>...</td>\n",
       "      <td>...</td>\n",
       "      <td>...</td>\n",
       "      <td>...</td>\n",
       "      <td>...</td>\n",
       "      <td>...</td>\n",
       "    </tr>\n",
       "    <tr>\n",
       "      <th>1810</th>\n",
       "      <td>2</td>\n",
       "      <td>0</td>\n",
       "      <td>0</td>\n",
       "      <td>0</td>\n",
       "      <td>1</td>\n",
       "      <td>0</td>\n",
       "      <td>0</td>\n",
       "      <td>1.0</td>\n",
       "      <td>1</td>\n",
       "      <td>1</td>\n",
       "    </tr>\n",
       "    <tr>\n",
       "      <th>1811</th>\n",
       "      <td>10</td>\n",
       "      <td>0</td>\n",
       "      <td>1</td>\n",
       "      <td>0</td>\n",
       "      <td>19</td>\n",
       "      <td>1</td>\n",
       "      <td>0</td>\n",
       "      <td>9.0</td>\n",
       "      <td>1</td>\n",
       "      <td>1</td>\n",
       "    </tr>\n",
       "    <tr>\n",
       "      <th>1812</th>\n",
       "      <td>2</td>\n",
       "      <td>0</td>\n",
       "      <td>0</td>\n",
       "      <td>0</td>\n",
       "      <td>0</td>\n",
       "      <td>1</td>\n",
       "      <td>0</td>\n",
       "      <td>1.0</td>\n",
       "      <td>1</td>\n",
       "      <td>0</td>\n",
       "    </tr>\n",
       "    <tr>\n",
       "      <th>1813</th>\n",
       "      <td>3</td>\n",
       "      <td>0</td>\n",
       "      <td>0</td>\n",
       "      <td>0</td>\n",
       "      <td>0</td>\n",
       "      <td>0</td>\n",
       "      <td>0</td>\n",
       "      <td>2.0</td>\n",
       "      <td>1</td>\n",
       "      <td>1</td>\n",
       "    </tr>\n",
       "    <tr>\n",
       "      <th>1814</th>\n",
       "      <td>2</td>\n",
       "      <td>0</td>\n",
       "      <td>0</td>\n",
       "      <td>0</td>\n",
       "      <td>3</td>\n",
       "      <td>0</td>\n",
       "      <td>0</td>\n",
       "      <td>1.0</td>\n",
       "      <td>1</td>\n",
       "      <td>0</td>\n",
       "    </tr>\n",
       "  </tbody>\n",
       "</table>\n",
       "<p>1815 rows × 10 columns</p>\n",
       "</div>"
      ],
      "text/plain": [
       "      decile_score  juv_fel_count  juv_misd_count  juv_other_count  \\\n",
       "0                6              0               0                0   \n",
       "1                1              0               0                0   \n",
       "2                3              0               0                0   \n",
       "3                3              0               0                0   \n",
       "4                6              0               0                0   \n",
       "...            ...            ...             ...              ...   \n",
       "1810             2              0               0                0   \n",
       "1811            10              0               1                0   \n",
       "1812             2              0               0                0   \n",
       "1813             3              0               0                0   \n",
       "1814             2              0               0                0   \n",
       "\n",
       "      priors_count  is_recid  is_violent_recid  length_of_stay  Z  Felony  \n",
       "0               14         1                 0             6.0  0       1  \n",
       "1                0         0                 0             3.0  0       0  \n",
       "2                7         1                 0             3.0  1       1  \n",
       "3                5         1                 0             1.0  0       1  \n",
       "4               13         1                 0             1.0  1       1  \n",
       "...            ...       ...               ...             ... ..     ...  \n",
       "1810             1         0                 0             1.0  1       1  \n",
       "1811            19         1                 0             9.0  1       1  \n",
       "1812             0         1                 0             1.0  1       0  \n",
       "1813             0         0                 0             2.0  1       1  \n",
       "1814             3         0                 0             1.0  1       0  \n",
       "\n",
       "[1815 rows x 10 columns]"
      ]
     },
     "execution_count": 45,
     "metadata": {},
     "output_type": "execute_result"
    }
   ],
   "source": [
    "X_test_2014"
   ]
  },
  {
   "cell_type": "markdown",
   "metadata": {},
   "source": [
    "### Scaled Probability Average Quantifier\n",
    "_A. Bella, C. Ferri, J. Hernández-Orallo and M. J. Ramírez-Quintana, \"Quantification via Probability Estimators,\" 2010 IEEE International Conference on Data Mining, 2010, pp. 737-742, doi: 10.1109/ICDM.2010.75._"
   ]
  },
  {
   "cell_type": "markdown",
   "metadata": {},
   "source": [
    "## Main pipeline"
   ]
  },
  {
   "cell_type": "code",
   "execution_count": 34,
   "metadata": {},
   "outputs": [],
   "source": [
    "class CASE():\n",
    "    def __init__(self, X_train, X_test, Y_train, Y_test):\n",
    "        self.X_train = X_train\n",
    "        self.X_test = X_test\n",
    "        self.Y_train = Y_train\n",
    "        self.Y_test = Y_test\n",
    "        self.THETA = {0.05, 0.15, 0.25, 0.35, 0.45, 0.55, 0.65, 0.75, 0.85, 0.95}\n",
    "        self.Z = [\"0\", \"1\"]\n",
    "        self.all_classifiers = {\"0\": [], \"1\": []}\n",
    "        self.all_quantifiers = []\n",
    "        \n",
    "        \n",
    "    # TRAINING PHASE\n",
    "    \n",
    "    # step 1\n",
    "    def partition_z(self):\n",
    "        X_t_Z_1_arr = []\n",
    "        X_t_Z_0_arr = []\n",
    "        X_te_Z_1_arr = []\n",
    "        X_te_Z_0_arr = []\n",
    "        Y_t_Z_1_arr = []\n",
    "        Y_t_Z_0_arr = []\n",
    "        Y_te_Z_1_arr = []\n",
    "        Y_te_Z_0_arr = []\n",
    "        for idx, row in self.X_train.iterrows():\n",
    "            if row['Z']:\n",
    "                X_t_Z_1_arr.append(self.X_train.iloc[[idx]])\n",
    "                Y_t_Z_1_arr.append(self.Y_train.iloc[[idx]])\n",
    "            else:\n",
    "                X_t_Z_0_arr.append(self.X_train.iloc[[idx]])\n",
    "                Y_t_Z_0_arr.append(self.Y_train.iloc[[idx]])\n",
    "                \n",
    "        for idx, row in self.X_test.iterrows():\n",
    "            if row['Z']:\n",
    "                X_te_Z_1_arr.append(self.X_test.iloc[[idx]])\n",
    "                Y_te_Z_1_arr.append(self.Y_test.iloc[[idx]])\n",
    "            else:\n",
    "                X_te_Z_0_arr.append(self.X_test.iloc[[idx]])\n",
    "                Y_te_Z_0_arr.append(self.Y_test.iloc[[idx]])\n",
    "                \n",
    "        all_arrs = [X_t_Z_1_arr, X_te_Z_1_arr, Y_t_Z_1_arr, Y_te_Z_1_arr, X_t_Z_0_arr, X_te_Z_0_arr, Y_t_Z_0_arr, Y_te_Z_0_arr]\n",
    "        \n",
    "        for idx, arr in enumerate(all_arrs):\n",
    "            all_arrs[idx] = pd.concat(arr)\n",
    "                \n",
    "                \n",
    "        self.D_z = {\n",
    "            \"0\": all_arrs[4:],\n",
    "            \"1\": all_arrs[:4]\n",
    "        }\n",
    "        \n",
    "        return 0\n",
    "    \n",
    "    # scaled probability algorithm\n",
    "    def spa(self, pred, pred_probs):\n",
    "        total = pred.shape[0]\n",
    "        num_pos = sum(pred)\n",
    "        num_neg = total - num_pos\n",
    "\n",
    "        p_sum_prob = 0\n",
    "        n_sum_prob = 0\n",
    "\n",
    "        for idx, val in enumerate(pred):\n",
    "            if val:\n",
    "                p_sum_prob += pred_probs[idx][1]\n",
    "            else:\n",
    "                n_sum_prob += pred_probs[idx][1]\n",
    "        p_sum_prob /= num_pos\n",
    "        n_sum_prob /= num_neg\n",
    "\n",
    "        pa = (sum(i[1] for i in pred_probs))/total\n",
    "        spa = (pa - n_sum_prob)/(p_sum_prob - n_sum_prob)\n",
    "\n",
    "        return spa\n",
    "        \n",
    "    # step 2\n",
    "    def create_quantifiers(self, test_size = 0.25):\n",
    "        for z in self.Z:\n",
    "            X_train, Y_train = self.D_z[z][0], self.D_z[z][2]\n",
    "            X_train, X_test, Y_train, Y_test = train_test_split(X_train, Y_train, test_size=test_size)\n",
    "            print(len(X_train))\n",
    "            naive_classifier = GaussianNB()\n",
    "            naive_classifier.fit(X_train, Y_train)\n",
    "            pred = naive_classifier.predict(X_test)\n",
    "            pred_probs = naive_classifier.predict_proba(X_test)\n",
    "            this_spa = self.spa(pred, pred_probs)\n",
    "            self.all_quantifiers.append(this_spa)\n",
    "        \n",
    "        return 0\n",
    "    \n",
    "    \n",
    "    def pp_sampling(self, prevelance, X, Y, ds='COMPAS'):\n",
    "        df = pd.concat([X, Y], axis=1)\n",
    "        tot = X.shape[0]\n",
    "\n",
    "        ds_col_name = {\n",
    "            'COMPAS': 'two_year_recid',\n",
    "            'syn': 'Y'\n",
    "        }\n",
    "        col_name = ds_col_name[ds]        \n",
    "        df_0 = df[(df[col_name] == '0') | (df[col_name] == 0)]\n",
    "        df_1 = df[(df[col_name] == '1') | (df[col_name] == 1)]\n",
    "        \n",
    "        num1 = int(prevelance*tot)\n",
    "        num0 = tot - num1\n",
    "        \n",
    "        df_0_final = df_0.iloc[np.random.randint(0, len(df_0), size=num0)]\n",
    "        df_1_final = df_1.iloc[np.random.randint(0, len(df_1), size=num1)]\n",
    "\n",
    "\n",
    "        shuffled_df = pd.concat([df_0_final, df_1_final]).sample(frac=1)\n",
    "        new_Y = shuffled_df.pop(col_name)\n",
    "        return shuffled_df, new_Y\n",
    "    \n",
    "    def create_classifiers(self, ds):\n",
    "        for z in self.Z:\n",
    "            for theta in self.THETA:\n",
    "#                 print(\"Z:\", z, \" | theta:\", theta)\n",
    "                new_X_train, new_Y_train = self.pp_sampling(theta, self.X_train, self.Y_train, ds=ds)\n",
    "                if ds == \"syn\":\n",
    "#                     print(new_X_train.describe(), new_Y_train.describe())\n",
    "                    clf = LogisticRegression().fit(new_X_train, new_Y_train)\n",
    "                else:\n",
    "                    clf = GradientBoostingClassifier().fit(new_X_train, new_Y_train)\n",
    "                self.all_classifiers[z].append(clf)\n",
    "                \n",
    "        return 0\n",
    "    \n",
    "    # PREDICTION PHASE\n",
    "    def get_prediction_prevelance(self):\n",
    "        classifier_pred = {\n",
    "            \"0\": [],\n",
    "            \"1\": []\n",
    "        }\n",
    "        for z in self.Z:\n",
    "            for idx, theta in enumerate(self.THETA):\n",
    "#                 print(\"Z:\", z, \" | theta:\", theta)\n",
    "                this_clf = self.all_classifiers[z][idx]\n",
    "#                 print(this_clf)\n",
    "                this_pred = this_clf.predict(self.D_z[z][1])\n",
    "#                 print(\"s\", sum(this_pred)/len(this_pred))\n",
    "                classifier_pred[z].append([this_clf, abs((sum(this_pred)/len(this_pred)) - self.all_quantifiers[int(z)]), (sum(this_pred)/len(this_pred))])\n",
    "                \n",
    "        zero_clfs = classifier_pred[\"0\"]\n",
    "        one_clfs = classifier_pred[\"1\"]\n",
    "        \n",
    "        zero_clfs.sort(key=lambda x:x[1])\n",
    "        one_clfs.sort(key=lambda x:x[1])\n",
    "        \n",
    "        best_0 = zero_clfs[0]\n",
    "        best_1 = one_clfs[0]\n",
    "        \n",
    "        return best_0, best_1"
   ]
  },
  {
   "cell_type": "code",
   "execution_count": 67,
   "metadata": {
    "scrolled": true
   },
   "outputs": [
    {
     "name": "stdout",
     "output_type": "stream",
     "text": [
      "Generating quantifiers...\n",
      "1307\n",
      "1944\n",
      "Generating classifiers...\n",
      "Getting prediction prevalance...\n"
     ]
    },
    {
     "data": {
      "text/plain": [
       "([GradientBoostingClassifier(), 0.095762525968077, 0.2390998593530239],\n",
       " [GradientBoostingClassifier(), 0.18424584004294148, 0.6811594202898551])"
      ]
     },
     "execution_count": 67,
     "metadata": {},
     "output_type": "execute_result"
    }
   ],
   "source": [
    "training_stuff = CASE(X_train_2013, X_test_2014, Y_train_2013, Y_test_2014)\n",
    "training_stuff.partition_z()\n",
    "print(\"Generating quantifiers...\")\n",
    "training_stuff.create_quantifiers()\n",
    "print(\"Generating classifiers...\")\n",
    "training_stuff.create_classifiers('COMPAS')\n",
    "print(\"Getting prediction prevalance...\")\n",
    "training_stuff.get_prediction_prevelance()"
   ]
  },
  {
   "cell_type": "code",
   "execution_count": 68,
   "metadata": {},
   "outputs": [
    {
     "data": {
      "text/plain": [
       "[0.3348623853211009, 0.4969135802469136]"
      ]
     },
     "execution_count": 68,
     "metadata": {},
     "output_type": "execute_result"
    }
   ],
   "source": [
    "training_stuff.all_quantifiers"
   ]
  },
  {
   "cell_type": "markdown",
   "metadata": {},
   "source": [
    "## Comparing with other algorithms"
   ]
  },
  {
   "cell_type": "code",
   "execution_count": 51,
   "metadata": {},
   "outputs": [],
   "source": [
    "def groups_and_classes(ds):\n",
    "    if ds == \"compas\":\n",
    "        privileged_groups = [{\"Z\": 0}]\n",
    "        unprivileged_groups = [{\"Z\": 1}]\n",
    "        \n",
    "    return {\"p\": privileged_groups, \"up\": unprivileged_groups}"
   ]
  },
  {
   "cell_type": "markdown",
   "metadata": {},
   "source": [
    "## With reweighing\n",
    "https://aif360.readthedocs.io/en/stable/modules/generated/aif360.algorithms.preprocessing.Reweighing.html\n",
    "\n",
    "Faisal Kamiran and Toon Calders. 2012. Data preprocessing techniques for classification without discrimination. Knowledge and Information Systems 33, 1 (2012), 1–33."
   ]
  },
  {
   "cell_type": "code",
   "execution_count": 59,
   "metadata": {},
   "outputs": [],
   "source": [
    "from aif360.algorithms.preprocessing import Reweighing\n",
    "from aif360.datasets import StandardDataset\n",
    "from aif360.metrics import BinaryLabelDatasetMetric\n",
    "from sklearn.preprocessing import StandardScaler"
   ]
  },
  {
   "cell_type": "code",
   "execution_count": 49,
   "metadata": {},
   "outputs": [],
   "source": [
    "compas_dataset = StandardDataset(compas_df_2013, \n",
    "                          label_name='two_year_recid', \n",
    "                          favorable_classes=[0], \n",
    "                          protected_attribute_names=['Z'], \n",
    "                          privileged_classes=[[0]])"
   ]
  },
  {
   "cell_type": "code",
   "execution_count": 57,
   "metadata": {},
   "outputs": [
    {
     "name": "stdout",
     "output_type": "stream",
     "text": [
      "Difference in mean outcomes between unprivileged and privileged groups = -0.139718\n"
     ]
    }
   ],
   "source": [
    "\n",
    "metric_orig_train = BinaryLabelDatasetMetric(compas_dataset, \n",
    "                                             unprivileged_groups=unprivileged_groups,\n",
    "                                             privileged_groups=privileged_groups)\n",
    "print(\"Difference in mean outcomes between unprivileged and privileged groups = %f\" % metric_orig_train.mean_difference())"
   ]
  },
  {
   "cell_type": "code",
   "execution_count": 52,
   "metadata": {},
   "outputs": [],
   "source": [
    "privileged_groups = groups_and_classes('compas')[\"p\"]\n",
    "unprivileged_groups = groups_and_classes('compas')[\"up\"]"
   ]
  },
  {
   "cell_type": "code",
   "execution_count": 54,
   "metadata": {},
   "outputs": [],
   "source": [
    "RW = Reweighing(unprivileged_groups=unprivileged_groups,\n",
    "               privileged_groups=privileged_groups)\n",
    "RW.fit(compas_dataset)\n",
    "compas_rw = RW.transform(compas_dataset)"
   ]
  },
  {
   "cell_type": "code",
   "execution_count": 58,
   "metadata": {},
   "outputs": [
    {
     "name": "stdout",
     "output_type": "stream",
     "text": [
      "Difference in mean outcomes between unprivileged and privileged groups = 0.000000\n"
     ]
    }
   ],
   "source": [
    "metric_transf_train = BinaryLabelDatasetMetric(compas_rw, \n",
    "                                         unprivileged_groups=unprivileged_groups,\n",
    "                                         privileged_groups=privileged_groups)\n",
    "print(\"Difference in mean outcomes between unprivileged and privileged groups = %f\" % metric_transf_train.mean_difference())"
   ]
  },
  {
   "cell_type": "code",
   "execution_count": 63,
   "metadata": {},
   "outputs": [
    {
     "data": {
      "text/html": [
       "<style>#sk-container-id-1 {color: black;background-color: white;}#sk-container-id-1 pre{padding: 0;}#sk-container-id-1 div.sk-toggleable {background-color: white;}#sk-container-id-1 label.sk-toggleable__label {cursor: pointer;display: block;width: 100%;margin-bottom: 0;padding: 0.3em;box-sizing: border-box;text-align: center;}#sk-container-id-1 label.sk-toggleable__label-arrow:before {content: \"▸\";float: left;margin-right: 0.25em;color: #696969;}#sk-container-id-1 label.sk-toggleable__label-arrow:hover:before {color: black;}#sk-container-id-1 div.sk-estimator:hover label.sk-toggleable__label-arrow:before {color: black;}#sk-container-id-1 div.sk-toggleable__content {max-height: 0;max-width: 0;overflow: hidden;text-align: left;background-color: #f0f8ff;}#sk-container-id-1 div.sk-toggleable__content pre {margin: 0.2em;color: black;border-radius: 0.25em;background-color: #f0f8ff;}#sk-container-id-1 input.sk-toggleable__control:checked~div.sk-toggleable__content {max-height: 200px;max-width: 100%;overflow: auto;}#sk-container-id-1 input.sk-toggleable__control:checked~label.sk-toggleable__label-arrow:before {content: \"▾\";}#sk-container-id-1 div.sk-estimator input.sk-toggleable__control:checked~label.sk-toggleable__label {background-color: #d4ebff;}#sk-container-id-1 div.sk-label input.sk-toggleable__control:checked~label.sk-toggleable__label {background-color: #d4ebff;}#sk-container-id-1 input.sk-hidden--visually {border: 0;clip: rect(1px 1px 1px 1px);clip: rect(1px, 1px, 1px, 1px);height: 1px;margin: -1px;overflow: hidden;padding: 0;position: absolute;width: 1px;}#sk-container-id-1 div.sk-estimator {font-family: monospace;background-color: #f0f8ff;border: 1px dotted black;border-radius: 0.25em;box-sizing: border-box;margin-bottom: 0.5em;}#sk-container-id-1 div.sk-estimator:hover {background-color: #d4ebff;}#sk-container-id-1 div.sk-parallel-item::after {content: \"\";width: 100%;border-bottom: 1px solid gray;flex-grow: 1;}#sk-container-id-1 div.sk-label:hover label.sk-toggleable__label {background-color: #d4ebff;}#sk-container-id-1 div.sk-serial::before {content: \"\";position: absolute;border-left: 1px solid gray;box-sizing: border-box;top: 0;bottom: 0;left: 50%;z-index: 0;}#sk-container-id-1 div.sk-serial {display: flex;flex-direction: column;align-items: center;background-color: white;padding-right: 0.2em;padding-left: 0.2em;position: relative;}#sk-container-id-1 div.sk-item {position: relative;z-index: 1;}#sk-container-id-1 div.sk-parallel {display: flex;align-items: stretch;justify-content: center;background-color: white;position: relative;}#sk-container-id-1 div.sk-item::before, #sk-container-id-1 div.sk-parallel-item::before {content: \"\";position: absolute;border-left: 1px solid gray;box-sizing: border-box;top: 0;bottom: 0;left: 50%;z-index: -1;}#sk-container-id-1 div.sk-parallel-item {display: flex;flex-direction: column;z-index: 1;position: relative;background-color: white;}#sk-container-id-1 div.sk-parallel-item:first-child::after {align-self: flex-end;width: 50%;}#sk-container-id-1 div.sk-parallel-item:last-child::after {align-self: flex-start;width: 50%;}#sk-container-id-1 div.sk-parallel-item:only-child::after {width: 0;}#sk-container-id-1 div.sk-dashed-wrapped {border: 1px dashed gray;margin: 0 0.4em 0.5em 0.4em;box-sizing: border-box;padding-bottom: 0.4em;background-color: white;}#sk-container-id-1 div.sk-label label {font-family: monospace;font-weight: bold;display: inline-block;line-height: 1.2em;}#sk-container-id-1 div.sk-label-container {text-align: center;}#sk-container-id-1 div.sk-container {/* jupyter's `normalize.less` sets `[hidden] { display: none; }` but bootstrap.min.css set `[hidden] { display: none !important; }` so we also need the `!important` here to be able to override the default hidden behavior on the sphinx rendered scikit-learn.org. See: https://github.com/scikit-learn/scikit-learn/issues/21755 */display: inline-block !important;position: relative;}#sk-container-id-1 div.sk-text-repr-fallback {display: none;}</style><div id=\"sk-container-id-1\" class=\"sk-top-container\"><div class=\"sk-text-repr-fallback\"><pre>LogisticRegression()</pre><b>In a Jupyter environment, please rerun this cell to show the HTML representation or trust the notebook. <br />On GitHub, the HTML representation is unable to render, please try loading this page with nbviewer.org.</b></div><div class=\"sk-container\" hidden><div class=\"sk-item\"><div class=\"sk-estimator sk-toggleable\"><input class=\"sk-toggleable__control sk-hidden--visually\" id=\"sk-estimator-id-1\" type=\"checkbox\" checked><label for=\"sk-estimator-id-1\" class=\"sk-toggleable__label sk-toggleable__label-arrow\">LogisticRegression</label><div class=\"sk-toggleable__content\"><pre>LogisticRegression()</pre></div></div></div></div></div>"
      ],
      "text/plain": [
       "LogisticRegression()"
      ]
     },
     "execution_count": 63,
     "metadata": {},
     "output_type": "execute_result"
    }
   ],
   "source": [
    "scale_transf = StandardScaler()\n",
    "X_train = scale_transf.fit_transform(compas_rw.features)\n",
    "y_train = compas_rw.labels.ravel()\n",
    "\n",
    "rwmod = LogisticRegression()\n",
    "rwmod.fit(X_train, y_train,\n",
    "        sample_weight=compas_rw.instance_weights)"
   ]
  },
  {
   "cell_type": "code",
   "execution_count": 64,
   "metadata": {},
   "outputs": [],
   "source": [
    "compas_dataset_test = StandardDataset(compas_df_2014, \n",
    "                          label_name='two_year_recid', \n",
    "                          favorable_classes=[0], \n",
    "                          protected_attribute_names=['Z'], \n",
    "                          privileged_classes=[[0]])"
   ]
  },
  {
   "cell_type": "code",
   "execution_count": 65,
   "metadata": {},
   "outputs": [
    {
     "name": "stderr",
     "output_type": "stream",
     "text": [
      "/opt/anaconda3/lib/python3.8/site-packages/sklearn/base.py:443: UserWarning: X has feature names, but LogisticRegression was fitted without feature names\n",
      "  warnings.warn(\n"
     ]
    },
    {
     "data": {
      "text/plain": [
       "0.9415977961432507"
      ]
     },
     "execution_count": 65,
     "metadata": {},
     "output_type": "execute_result"
    }
   ],
   "source": [
    "rwmod.score(X_test_2014, Y_test_2014)"
   ]
  },
  {
   "cell_type": "markdown",
   "metadata": {},
   "source": [
    "## With meta-fr"
   ]
  },
  {
   "cell_type": "code",
   "execution_count": 69,
   "metadata": {},
   "outputs": [],
   "source": [
    "from aif360.algorithms.inprocessing.meta_fair_classifier import MetaFairClassifier"
   ]
  },
  {
   "cell_type": "code",
   "execution_count": null,
   "metadata": {},
   "outputs": [],
   "source": []
  }
 ],
 "metadata": {
  "kernelspec": {
   "display_name": "Python 3",
   "language": "python",
   "name": "python3"
  },
  "language_info": {
   "codemirror_mode": {
    "name": "ipython",
    "version": 3
   },
   "file_extension": ".py",
   "mimetype": "text/x-python",
   "name": "python",
   "nbconvert_exporter": "python",
   "pygments_lexer": "ipython3",
   "version": "3.8.3"
  }
 },
 "nbformat": 4,
 "nbformat_minor": 5
}
